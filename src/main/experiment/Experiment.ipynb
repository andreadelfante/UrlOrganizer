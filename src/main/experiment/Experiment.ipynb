{
 "cells": [
  {
   "cell_type": "code",
   "execution_count": 2,
   "metadata": {},
   "outputs": [
    {
     "ename": "ImportError",
     "evalue": "No module named 'runExperiments'",
     "traceback": [
      "\u001b[0;31m---------------------------------------------------------------------------\u001b[0m",
      "\u001b[0;31mImportError\u001b[0m                               Traceback (most recent call last)",
      "\u001b[0;32m<ipython-input-2-e218668edca0>\u001b[0m in \u001b[0;36m<module>\u001b[0;34m()\u001b[0m\n\u001b[1;32m      1\u001b[0m \u001b[0;32mimport\u001b[0m \u001b[0mio\u001b[0m\u001b[0;34m,\u001b[0m \u001b[0mos\u001b[0m\u001b[0;34m,\u001b[0m \u001b[0msys\u001b[0m\u001b[0;34m,\u001b[0m \u001b[0mtypes\u001b[0m\u001b[0;34m\u001b[0m\u001b[0m\n\u001b[0;32m----> 2\u001b[0;31m \u001b[0;32mfrom\u001b[0m \u001b[0mrunExperiments\u001b[0m \u001b[0;32mimport\u001b[0m \u001b[0mExperiment\u001b[0m\u001b[0;34m\u001b[0m\u001b[0m\n\u001b[0m\u001b[1;32m      3\u001b[0m \u001b[0;32mfrom\u001b[0m \u001b[0msklearn\u001b[0m \u001b[0;32mimport\u001b[0m \u001b[0mmetrics\u001b[0m\u001b[0;34m\u001b[0m\u001b[0m\n\u001b[1;32m      4\u001b[0m \u001b[0;32mimport\u001b[0m \u001b[0mpandas\u001b[0m \u001b[0;32mas\u001b[0m \u001b[0mpd\u001b[0m\u001b[0;34m\u001b[0m\u001b[0m\n",
      "\u001b[0;31mImportError\u001b[0m: No module named 'runExperiments'"
     ],
     "output_type": "error"
    }
   ],
   "source": [
    "import io, os, sys, types\n",
    "from runExperiments import Experiment\n",
    "from sklearn import metrics\n",
    "import pandas as pd"
   ]
  },
  {
   "cell_type": "code",
   "execution_count": 3,
   "metadata": {},
   "outputs": [],
   "source": [
    "direct = \"/home/fabiana/git/Url2vec/cs.princeton.edu.ListConstraint.words10000.depth5/\"\n",
    "clustering = \"KMEANS\"\n",
    "w2v_conf = \"None\"\n",
    "vectors_conf = \"content\""
   ]
  },
  {
   "cell_type": "code",
   "execution_count": 14,
   "metadata": {},
   "outputs": [
    {
     "name": "stdout",
     "output_type": "stream",
     "text": [
      "('Create tf-idf matrix, shape: ', (3132, 861))\n",
      "('Dimensionality reduction with lsa, shape: ', (3132, 861))\n",
      "[[ 0.80838263  0.02528796 -0.14400147 ...,  0.01163447 -0.07129189\n",
      "   0.01179756]\n",
      " [ 0.91490829 -0.03290741  0.11535019 ...,  0.00162313  0.00188867\n",
      "   0.00921786]\n",
      " [ 0.41106127  0.16563735 -0.02315403 ..., -0.01732022 -0.03368053\n",
      "   0.04563786]\n",
      " ..., \n",
      " [ 0.17314711  0.29888724 -0.0158433  ..., -0.01103977  0.13421571\n",
      "   0.01217987]\n",
      " [ 0.97390834 -0.10175901  0.16211974 ..., -0.00797825 -0.00698959\n",
      "  -0.00187541]\n",
      " [ 0.97627388 -0.10350585  0.15616634 ..., -0.01660978 -0.00463128\n",
      "  -0.00998121]]\n",
      "('Clustering using KMEANS with num_clusters = ', 16)\n",
      "('Web pages to analyze: ', 3032)\n",
      "\thomo\tcompl\tv-meas\tARI\tAMI\tsilhouette\n",
      "(0.7146931949641393, 0.58073499765340242, 0.64078789278432735, 0.6850083624398778, 0.57385592559177967, 0.2120066901087598)\n"
     ]
    }
   ],
   "source": [
    "ex = Experiment()\n",
    "true_labels, learned_labels = ex.run(direct, clustering, w2v_conf, vectors_conf)"
   ]
  },
  {
   "cell_type": "code",
   "execution_count": 11,
   "metadata": {},
   "outputs": [
    {
     "data": {
      "text/html": [
       "<div>\n",
       "<table border=\"1\" class=\"dataframe\">\n",
       "  <thead>\n",
       "    <tr style=\"text-align: right;\">\n",
       "      <th></th>\n",
       "      <th>A_Homogeneity</th>\n",
       "      <th>B_Completeness</th>\n",
       "      <th>C_V-Measure</th>\n",
       "      <th>D_Adj Rand index</th>\n",
       "      <th>E_Adj Mutual info</th>\n",
       "      <th>F_Silhouette</th>\n",
       "    </tr>\n",
       "  </thead>\n",
       "  <tbody>\n",
       "    <tr>\n",
       "      <th>Embedding NC</th>\n",
       "      <td>0.75</td>\n",
       "      <td>0.63</td>\n",
       "      <td>0.69</td>\n",
       "      <td>0.51</td>\n",
       "      <td>0.63</td>\n",
       "      <td>0.28</td>\n",
       "    </tr>\n",
       "  </tbody>\n",
       "</table>\n",
       "</div>"
      ]
     },
     "metadata": {},
     "output_type": "execute_result"
    }
   ],
   "source": [
    "embeddingdf_nc = pd.DataFrame({\n",
    "        \"A_Homogeneity\": \"{0:.2f}\".format(ex.homogeneity), \n",
    "        \"B_Completeness\": \"{0:.2f}\".format(ex.completeness), \n",
    "        \"C_V-Measure\": \"{0:.2f}\".format(ex.v_measure), \n",
    "        \"D_Adj Rand index\": \"{0:.2f}\".format(ex.ari), \n",
    "        \"E_Adj Mutual info\": \"{0:.2f}\".format(ex.ami), \n",
    "        \"F_Silhouette\": \"{0:.2f}\".format(ex.silhouette)\n",
    "    },\n",
    "    index=[\"Embedding NC\"]\n",
    ")\n",
    "embeddingdf_nc"
   ]
  },
  {
   "cell_type": "code",
   "execution_count": 178,
   "metadata": {},
   "outputs": [
    {
     "data": {
      "text/plain": [
       "19"
      ]
     },
     "execution_count": 178,
     "metadata": {},
     "output_type": "execute_result"
    }
   ],
   "source": [
    "len(set(learned_labels))"
   ]
  },
  {
   "cell_type": "code",
   "execution_count": 179,
   "metadata": {},
   "outputs": [
    {
     "name": "stdout",
     "output_type": "stream",
     "text": [
      "Create tf-idf matrix, shape:  (3480, 736)\n",
      "Dimensionality reduction with lsa, shape:  (3480, 736)\n",
      "Clustering using KMEANS with num_clusters =  19\n",
      "Web pages to analyze:  3261\n",
      "\thomo\tcompl\tv-meas\tARI\tAMI\tsilhouette\n",
      "0.736498344572 0.622166852291 0.674522108637 0.5303922463410874 0.615210609127 0.26497669516\n"
     ]
    },
    {
     "data": {
      "text/html": [
       "<div>\n",
       "<table border=\"1\" class=\"dataframe\">\n",
       "  <thead>\n",
       "    <tr style=\"text-align: right;\">\n",
       "      <th></th>\n",
       "      <th>A_Homogeneity</th>\n",
       "      <th>B_Completeness</th>\n",
       "      <th>C_V-Measure</th>\n",
       "      <th>D_Adj Rand index</th>\n",
       "      <th>E_Adj Mutual info</th>\n",
       "      <th>F_Silhouette</th>\n",
       "    </tr>\n",
       "  </thead>\n",
       "  <tbody>\n",
       "    <tr>\n",
       "      <th>Embedding NC</th>\n",
       "      <td>0.74</td>\n",
       "      <td>0.62</td>\n",
       "      <td>0.67</td>\n",
       "      <td>0.53</td>\n",
       "      <td>0.62</td>\n",
       "      <td>0.26</td>\n",
       "    </tr>\n",
       "  </tbody>\n",
       "</table>\n",
       "</div>"
      ]
     },
     "metadata": {},
     "output_type": "execute_result"
    }
   ],
   "source": [
    "direct2 = \"/home/fabiana/git/Url2vec/cs.ox.ac.uk.NoConstraint.words10000.depth5/\"\n",
    "ex2 = Experiment()\n",
    "ex2.run(direct2, clustering, w2v_conf, vectors_conf)\n",
    "embeddingdf_nc = pd.DataFrame({\n",
    "        \"A_Homogeneity\": \"{0:.2f}\".format(ex2.homogeneity), \n",
    "        \"B_Completeness\": \"{0:.2f}\".format(ex2.completeness), \n",
    "        \"C_V-Measure\": \"{0:.2f}\".format(ex2.v_measure), \n",
    "        \"D_Adj Rand index\": \"{0:.2f}\".format(ex2.ari), \n",
    "        \"E_Adj Mutual info\": \"{0:.2f}\".format(ex2.ami), \n",
    "        \"F_Silhouette\": \"{0:.2f}\".format(ex2.silhouette)\n",
    "    },\n",
    "    index=[\"Embedding NC\"]\n",
    ")\n",
    "embeddingdf_nc"
   ]
  },
  {
   "cell_type": "code",
   "execution_count": null,
   "metadata": {},
   "outputs": [],
   "source": [
    ""
   ]
  }
 ],
 "metadata": {
  "kernelspec": {
   "display_name": "Python 2",
   "language": "python",
   "name": "python2"
  },
  "language_info": {
   "codemirror_mode": {
    "name": "ipython",
    "version": 2.0
   },
   "file_extension": ".py",
   "mimetype": "text/x-python",
   "name": "python",
   "nbconvert_exporter": "python",
   "pygments_lexer": "ipython2",
   "version": "2.7.11"
  }
 },
 "nbformat": 4,
 "nbformat_minor": 0
}