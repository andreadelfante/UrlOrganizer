{
 "cells": [
  {
   "cell_type": "code",
   "execution_count": 1,
   "metadata": {},
   "outputs": [],
   "source": [
    "import io, os, sys, types\n",
    "from src.main.experiment.runExperiments import Experiment\n",
    "from sklearn import metrics\n",
    "import pandas as pd"
   ]
  },
  {
   "cell_type": "code",
   "execution_count": 175,
   "metadata": {},
   "outputs": [],
   "source": [
    "direct = \"/home/fabiana/git/Url2vec/cs.ox.ac.uk.ListConstraint.words10000.depth5/\"\n",
    "clustering = \"KMEANS\"\n",
    "w2v_conf = \"None\"\n",
    "vectors_conf = \"content\""
   ]
  },
  {
   "cell_type": "code",
   "execution_count": 176,
   "metadata": {},
   "outputs": [
    {
     "name": "stdout",
     "output_type": "stream",
     "text": [
      "Create tf-idf matrix, shape:  (3480, 738)\n",
      "Dimensionality reduction with lsa, shape:  (3480, 738)\n",
      "Clustering using KMEANS with num_clusters =  19\n",
      "Web pages to analyze:  3261\n",
      "\thomo\tcompl\tv-meas\tARI\tAMI\tsilhouette\n",
      "0.737752754639 0.601370295733 0.662616616317 0.48079793657388653 0.59415717406 0.247130601768\n"
     ]
    }
   ],
   "source": [
    "ex = Experiment()\n",
    "true_labels, learned_labels = ex.run(direct, clustering, w2v_conf, vectors_conf)"
   ]
  },
  {
   "cell_type": "code",
   "execution_count": 177,
   "metadata": {},
   "outputs": [
    {
     "data": {
      "text/html": [
       "<div>\n",
       "<table border=\"1\" class=\"dataframe\">\n",
       "  <thead>\n",
       "    <tr style=\"text-align: right;\">\n",
       "      <th></th>\n",
       "      <th>A_Homogeneity</th>\n",
       "      <th>B_Completeness</th>\n",
       "      <th>C_V-Measure</th>\n",
       "      <th>D_Adj Rand index</th>\n",
       "      <th>E_Adj Mutual info</th>\n",
       "      <th>F_Silhouette</th>\n",
       "    </tr>\n",
       "  </thead>\n",
       "  <tbody>\n",
       "    <tr>\n",
       "      <th>Embedding NC</th>\n",
       "      <td>0.74</td>\n",
       "      <td>0.60</td>\n",
       "      <td>0.66</td>\n",
       "      <td>0.48</td>\n",
       "      <td>0.59</td>\n",
       "      <td>0.25</td>\n",
       "    </tr>\n",
       "  </tbody>\n",
       "</table>\n",
       "</div>"
      ]
     },
     "output_type": "execute_result",
     "metadata": {}
    }
   ],
   "source": [
    "embeddingdf_nc = pd.DataFrame({\n",
    "        \"A_Homogeneity\": \"{0:.2f}\".format(ex.homogeneity), \n",
    "        \"B_Completeness\": \"{0:.2f}\".format(ex.completeness), \n",
    "        \"C_V-Measure\": \"{0:.2f}\".format(ex.v_measure), \n",
    "        \"D_Adj Rand index\": \"{0:.2f}\".format(ex.ari), \n",
    "        \"E_Adj Mutual info\": \"{0:.2f}\".format(ex.ami), \n",
    "        \"F_Silhouette\": \"{0:.2f}\".format(ex.silhouette)\n",
    "    },\n",
    "    index=[\"Embedding NC\"]\n",
    ")\n",
    "embeddingdf_nc"
   ]
  },
  {
   "cell_type": "code",
   "execution_count": 178,
   "metadata": {},
   "outputs": [
    {
     "data": {
      "text/plain": [
       "19"
      ]
     },
     "execution_count": 178,
     "output_type": "execute_result",
     "metadata": {}
    }
   ],
   "source": [
    "len(set(learned_labels))"
   ]
  },
  {
   "cell_type": "code",
   "execution_count": 179,
   "metadata": {},
   "outputs": [
    {
     "name": "stdout",
     "output_type": "stream",
     "text": [
      "Create tf-idf matrix, shape:  (3480, 736)\n",
      "Dimensionality reduction with lsa, shape:  (3480, 736)\n",
      "Clustering using KMEANS with num_clusters =  19\n",
      "Web pages to analyze:  3261\n",
      "\thomo\tcompl\tv-meas\tARI\tAMI\tsilhouette\n",
      "0.736498344572 0.622166852291 0.674522108637 0.5303922463410874 0.615210609127 0.26497669516\n"
     ]
    },
    {
     "data": {
      "text/html": [
       "<div>\n",
       "<table border=\"1\" class=\"dataframe\">\n",
       "  <thead>\n",
       "    <tr style=\"text-align: right;\">\n",
       "      <th></th>\n",
       "      <th>A_Homogeneity</th>\n",
       "      <th>B_Completeness</th>\n",
       "      <th>C_V-Measure</th>\n",
       "      <th>D_Adj Rand index</th>\n",
       "      <th>E_Adj Mutual info</th>\n",
       "      <th>F_Silhouette</th>\n",
       "    </tr>\n",
       "  </thead>\n",
       "  <tbody>\n",
       "    <tr>\n",
       "      <th>Embedding NC</th>\n",
       "      <td>0.74</td>\n",
       "      <td>0.62</td>\n",
       "      <td>0.67</td>\n",
       "      <td>0.53</td>\n",
       "      <td>0.62</td>\n",
       "      <td>0.26</td>\n",
       "    </tr>\n",
       "  </tbody>\n",
       "</table>\n",
       "</div>"
      ]
     },
     "output_type": "execute_result",
     "metadata": {}
    }
   ],
   "source": [
    "direct2 = \"/home/fabiana/git/Url2vec/cs.ox.ac.uk.NoConstraint.words10000.depth5/\"\n",
    "ex2 = Experiment()\n",
    "ex2.run(direct2, clustering, w2v_conf, vectors_conf)\n",
    "embeddingdf_nc = pd.DataFrame({\n",
    "        \"A_Homogeneity\": \"{0:.2f}\".format(ex2.homogeneity), \n",
    "        \"B_Completeness\": \"{0:.2f}\".format(ex2.completeness), \n",
    "        \"C_V-Measure\": \"{0:.2f}\".format(ex2.v_measure), \n",
    "        \"D_Adj Rand index\": \"{0:.2f}\".format(ex2.ari), \n",
    "        \"E_Adj Mutual info\": \"{0:.2f}\".format(ex2.ami), \n",
    "        \"F_Silhouette\": \"{0:.2f}\".format(ex2.silhouette)\n",
    "    },\n",
    "    index=[\"Embedding NC\"]\n",
    ")\n",
    "embeddingdf_nc"
   ]
  },
  {
   "cell_type": "code",
   "execution_count": null,
   "metadata": {},
   "outputs": [],
   "source": [
    ""
   ]
  }
 ],
 "metadata": {
  "kernelspec": {
   "display_name": "Python 3",
   "language": "python",
   "name": "python3"
  },
  "language_info": {
   "codemirror_mode": {
    "name": "ipython",
    "version": 3.0
   },
   "file_extension": ".py",
   "mimetype": "text/x-python",
   "name": "python",
   "nbconvert_exporter": "python",
   "pygments_lexer": "ipython3",
   "version": "3.5.1"
  }
 },
 "nbformat": 4,
 "nbformat_minor": 0
}