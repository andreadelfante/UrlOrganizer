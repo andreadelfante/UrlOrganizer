{
 "cells": [
  {
   "cell_type": "code",
   "execution_count": 29,
   "metadata": {
    "collapsed": true
   },
   "outputs": [],
   "source": [
    "from models.Chart import Chart\n",
    "from models.MetricKey import MetricKey\n",
    "import plotly.tools as tls\n",
    "\n",
    "#tls.set_credentials_file(username='andreadelfante', api_key='1eob0r0ult')\n",
    "#tls.set_credentials_file(username=\"chrispolo\", api_key=\"89nned6csl\")\n",
    "tls.set_credentials_file(username=\"andreadelfante1\", api_key=\"l6218x7dun\")\n",
    "#tls.set_credentials_file(username=\"andreadelfante2\", api_key=\"8jdqrhmsuz\")\n",
    "#tls.set_credentials_file(username=\"andreadelfante3\", api_key=\"xq9h85w8sm\")"
   ]
  },
  {
   "cell_type": "code",
   "execution_count": 45,
   "metadata": {},
   "outputs": [],
   "source": [
    "direct = \"/Volumes/AdditionalDriveMAC/Google Drive/1) Tesi/Sperimentazioni/\" \\\n",
    "         \"cs.illinois.edu/\" \\\n",
    "         \"ListConstraint/\" \\\n",
    "         \"intersect/\"\n",
    "left_skipgram_with_b = \"Risultati left skipgram with b intersect.csv\"\n",
    "left_skipgram_no_b = \"Risultati left skipgram no b intersect.csv\"\n",
    "normal_skipgram = \"Risultati normal skipgram intersect.csv\"\n",
    "\n",
    "\n",
    "clustering = MetricKey.Clustering.HDBScan\n",
    "\n",
    "words_string = \"1000000\" #100000 = 100K ; 500000 = 500K ; 1000000 = 1M\n",
    "depth_string = \"20\" #10 15 20\n",
    "\n",
    "chart = Chart(path=direct, left_skipgram_with_b=left_skipgram_with_b, left_skipgram_no_b=left_skipgram_no_b, normal_skipgram=normal_skipgram)"
   ]
  },
  {
   "cell_type": "code",
   "execution_count": 46,
   "metadata": {},
   "outputs": [
    {
     "data": {
      "text/html": [
       "<iframe id=\"igraph\" scrolling=\"no\" style=\"border:none;\" seamless=\"seamless\" src=\"https://plot.ly/~andreadelfante1/242.embed\" height=\"700px\" width=\"700px\"></iframe>"
      ],
      "text/plain": [
       "<iframe id=\"igraph\" scrolling=\"no\" style=\"border:none;\" seamless=\"seamless\" src=\"https://plot.ly/~andreadelfante1/242.embed\" height=\"700px\" width=\"700px\"></iframe>"
      ]
     },
     "execution_count": 46,
     "metadata": {},
     "output_type": "execute_result"
    }
   ],
   "source": [
    "chart.plot_linechart(Chart.Metrics.v_measure, words_string, depth_string, clustering)"
   ]
  },
  {
   "cell_type": "code",
   "execution_count": 47,
   "metadata": {},
   "outputs": [
    {
     "data": {
      "text/html": [
       "<iframe id=\"igraph\" scrolling=\"no\" style=\"border:none;\" seamless=\"seamless\" src=\"https://plot.ly/~andreadelfante1/244.embed\" height=\"700px\" width=\"700px\"></iframe>"
      ],
      "text/plain": [
       "<iframe id=\"igraph\" scrolling=\"no\" style=\"border:none;\" seamless=\"seamless\" src=\"https://plot.ly/~andreadelfante1/244.embed\" height=\"700px\" width=\"700px\"></iframe>"
      ]
     },
     "execution_count": 47,
     "metadata": {},
     "output_type": "execute_result"
    }
   ],
   "source": [
    "chart.plot_linechart(Chart.Metrics.ari, words_string, depth_string, clustering)"
   ]
  },
  {
   "cell_type": "code",
   "execution_count": 48,
   "metadata": {},
   "outputs": [
    {
     "data": {
      "text/html": [
       "<iframe id=\"igraph\" scrolling=\"no\" style=\"border:none;\" seamless=\"seamless\" src=\"https://plot.ly/~andreadelfante1/246.embed\" height=\"700px\" width=\"700px\"></iframe>"
      ],
      "text/plain": [
       "<iframe id=\"igraph\" scrolling=\"no\" style=\"border:none;\" seamless=\"seamless\" src=\"https://plot.ly/~andreadelfante1/246.embed\" height=\"700px\" width=\"700px\"></iframe>"
      ]
     },
     "execution_count": 48,
     "metadata": {},
     "output_type": "execute_result"
    }
   ],
   "source": [
    "chart.plot_linechart(Chart.Metrics.silhouette, words_string, depth_string, clustering)"
   ]
  },
  {
   "cell_type": "code",
   "execution_count": 49,
   "metadata": {},
   "outputs": [
    {
     "data": {
      "text/html": [
       "<iframe id=\"igraph\" scrolling=\"no\" style=\"border:none;\" seamless=\"seamless\" src=\"https://plot.ly/~andreadelfante1/248.embed\" height=\"700px\" width=\"700px\"></iframe>"
      ],
      "text/plain": [
       "<iframe id=\"igraph\" scrolling=\"no\" style=\"border:none;\" seamless=\"seamless\" src=\"https://plot.ly/~andreadelfante1/248.embed\" height=\"700px\" width=\"700px\"></iframe>"
      ]
     },
     "execution_count": 49,
     "metadata": {},
     "output_type": "execute_result"
    }
   ],
   "source": [
    "chart.plot_linechart(Chart.Metrics.ami, words_string, depth_string, clustering)"
   ]
  },
  {
   "cell_type": "code",
   "execution_count": 40,
   "metadata": {},
   "outputs": [],
   "source": [
    ""
   ]
  },
  {
   "cell_type": "code",
   "execution_count": null,
   "metadata": {},
   "outputs": [],
   "source": [
    ""
   ]
  }
 ],
 "metadata": {
  "kernelspec": {
   "display_name": "Python 2",
   "language": "python",
   "name": "python2"
  },
  "language_info": {
   "codemirror_mode": {
    "name": "ipython",
    "version": 2.0
   },
   "file_extension": ".py",
   "mimetype": "text/x-python",
   "name": "python",
   "nbconvert_exporter": "python",
   "pygments_lexer": "ipython2",
   "version": "2.7.6"
  }
 },
 "nbformat": 4,
 "nbformat_minor": 0
}