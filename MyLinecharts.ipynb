{
 "cells": [
  {
   "cell_type": "code",
   "execution_count": 33,
   "metadata": {
    "collapsed": true
   },
   "outputs": [],
   "source": [
    "from models.Chart import Chart\n",
    "from models.MetricKey import MetricKey\n",
    "import plotly.tools as tls\n",
    "\n",
    "#tls.set_credentials_file(username='andreadelfante', api_key='1eob0r0ult')\n",
    "#tls.set_credentials_file(username=\"chrispolo\", api_key=\"89nned6csl\")\n",
    "tls.set_credentials_file(username=\"andreadelfante1\", api_key=\"l6218x7dun\")\n",
    "#tls.set_credentials_file(username=\"andreadelfante2\", api_key=\"8jdqrhmsuz\")\n",
    "#tls.set_credentials_file(username=\"andreadelfante3\", api_key=\"xq9h85w8sm\")"
   ]
  },
  {
   "cell_type": "code",
   "execution_count": 49,
   "metadata": {},
   "outputs": [],
   "source": [
    "direct = \"/Volumes/AdditionalDriveMAC/Google Drive/1) Tesi/Sperimentazioni/\" \\\n",
    "         \"cs.ox.ac.uk/\" \\\n",
    "         \"NoConstraint/\"\n",
    "left_skipgram_with_b = \"Risultati left skipgram with b.csv\"\n",
    "left_skipgram_no_b = \"Risultati left skipgram no b.csv\"\n",
    "normal_skipgram = \"Risultati normal skipgram.csv\"\n",
    "\n",
    "\n",
    "clustering = MetricKey.Clustering.KMeans\n",
    "\n",
    "words_string = \"1000000\" #100000 = 100K ; 500000 = 500K ; 1000000 = 1M\n",
    "depth_string = \"20\" #10 15 20\n",
    "\n",
    "chart = Chart(path=direct, left_skipgram_with_b=left_skipgram_with_b, left_skipgram_no_b=left_skipgram_no_b, normal_skipgram=normal_skipgram)"
   ]
  },
  {
   "cell_type": "code",
   "execution_count": 50,
   "metadata": {},
   "outputs": [
    {
     "data": {
      "text/html": [
       "<iframe id=\"igraph\" scrolling=\"no\" style=\"border:none;\" seamless=\"seamless\" src=\"https://plot.ly/~andreadelfante1/150.embed\" height=\"700px\" width=\"700px\"></iframe>"
      ],
      "text/plain": [
       "<iframe id=\"igraph\" scrolling=\"no\" style=\"border:none;\" seamless=\"seamless\" src=\"https://plot.ly/~andreadelfante1/150.embed\" height=\"700px\" width=\"700px\"></iframe>"
      ]
     },
     "execution_count": 50,
     "metadata": {},
     "output_type": "execute_result"
    }
   ],
   "source": [
    "chart.plot_linechart(Chart.Metrics.v_measure, words_string, depth_string, clustering)"
   ]
  },
  {
   "cell_type": "code",
   "execution_count": 51,
   "metadata": {},
   "outputs": [
    {
     "data": {
      "text/html": [
       "<iframe id=\"igraph\" scrolling=\"no\" style=\"border:none;\" seamless=\"seamless\" src=\"https://plot.ly/~andreadelfante1/152.embed\" height=\"700px\" width=\"700px\"></iframe>"
      ],
      "text/plain": [
       "<iframe id=\"igraph\" scrolling=\"no\" style=\"border:none;\" seamless=\"seamless\" src=\"https://plot.ly/~andreadelfante1/152.embed\" height=\"700px\" width=\"700px\"></iframe>"
      ]
     },
     "execution_count": 51,
     "metadata": {},
     "output_type": "execute_result"
    }
   ],
   "source": [
    "chart.plot_linechart(Chart.Metrics.ari, words_string, depth_string, clustering)"
   ]
  },
  {
   "cell_type": "code",
   "execution_count": 52,
   "metadata": {},
   "outputs": [
    {
     "data": {
      "text/html": [
       "<iframe id=\"igraph\" scrolling=\"no\" style=\"border:none;\" seamless=\"seamless\" src=\"https://plot.ly/~andreadelfante1/154.embed\" height=\"700px\" width=\"700px\"></iframe>"
      ],
      "text/plain": [
       "<iframe id=\"igraph\" scrolling=\"no\" style=\"border:none;\" seamless=\"seamless\" src=\"https://plot.ly/~andreadelfante1/154.embed\" height=\"700px\" width=\"700px\"></iframe>"
      ]
     },
     "execution_count": 52,
     "metadata": {},
     "output_type": "execute_result"
    }
   ],
   "source": [
    "chart.plot_linechart(Chart.Metrics.silhouette, words_string, depth_string, clustering)"
   ]
  },
  {
   "cell_type": "code",
   "execution_count": 53,
   "metadata": {},
   "outputs": [
    {
     "data": {
      "text/html": [
       "<iframe id=\"igraph\" scrolling=\"no\" style=\"border:none;\" seamless=\"seamless\" src=\"https://plot.ly/~andreadelfante1/156.embed\" height=\"700px\" width=\"700px\"></iframe>"
      ],
      "text/plain": [
       "<iframe id=\"igraph\" scrolling=\"no\" style=\"border:none;\" seamless=\"seamless\" src=\"https://plot.ly/~andreadelfante1/156.embed\" height=\"700px\" width=\"700px\"></iframe>"
      ]
     },
     "execution_count": 53,
     "metadata": {},
     "output_type": "execute_result"
    }
   ],
   "source": [
    "chart.plot_linechart(Chart.Metrics.ami, words_string, depth_string, clustering)"
   ]
  },
  {
   "cell_type": "code",
   "execution_count": null,
   "metadata": {},
   "outputs": [],
   "source": [
    ""
   ]
  },
  {
   "cell_type": "code",
   "execution_count": null,
   "metadata": {},
   "outputs": [],
   "source": [
    ""
   ]
  }
 ],
 "metadata": {
  "kernelspec": {
   "display_name": "Python 2",
   "language": "python",
   "name": "python2"
  },
  "language_info": {
   "codemirror_mode": {
    "name": "ipython",
    "version": 2.0
   },
   "file_extension": ".py",
   "mimetype": "text/x-python",
   "name": "python",
   "nbconvert_exporter": "python",
   "pygments_lexer": "ipython2",
   "version": "2.7.6"
  }
 },
 "nbformat": 4,
 "nbformat_minor": 0
}