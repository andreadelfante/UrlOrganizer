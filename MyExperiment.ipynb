{
 "cells": [
  {
   "cell_type": "code",
   "execution_count": 10,
   "metadata": {
    "collapsed": true
   },
   "outputs": [],
   "source": [
    "from models.Metrics import Metrics\n",
    "from utils.UrlsEmbedding import UrlsEmbedding\n",
    "from utils.RunExperiments import RunExperiments\n",
    "import utils.Formatter as F\n",
    "import pandas as pd"
   ]
  },
  {
   "cell_type": "code",
   "execution_count": 11,
   "metadata": {},
   "outputs": [],
   "source": [
    "direct = \"/Users/Andrea/Desktop/cs.illinois.edu.ListConstraint.words100000.depth10.window2.iteractions50/\"\n",
    "scaling = \"l2\"\n",
    "separator = \"\\t\""
   ]
  },
  {
   "cell_type": "code",
   "execution_count": 12,
   "metadata": {},
   "outputs": [
    {
     "name": "stdout",
     "output_type": "stream",
     "text": [
      "Start running KMeans\nStart running KMeans\n"
     ]
    },
    {
     "name": "stdout",
     "output_type": "stream",
     "text": [
      "Homogeneity: 0.368420717641\nCompleteness: 0.298692347867\nV-Measure core: 0.32991243867\nAdjusted Rand index: 0.1195341828046075\nMutual Information: 0.271426052\nSilhouette: 0.0233823134252\nHomogeneity: 0.322862248914\nCompleteness: 0.253123981586\nV-Measure core: 0.283771290428\nAdjusted Rand index: 0.09658404284545294\nMutual Information: 0.224833712756\nSilhouette: 0.0255334439422\nStart running HDBscan\n"
     ]
    },
    {
     "name": "stdout",
     "output_type": "stream",
     "text": [
      "Start running HDBscan\nHomogeneity: 0.0731978117569\nCompleteness: 0.301863591485\nV-Measure core: 0.117824730323\nAdjusted Rand index: 0.05236932538527692\nMutual Information: 0.06418154746\nSilhouette: -0.0252520877303\n"
     ]
    },
    {
     "name": "stdout",
     "output_type": "stream",
     "text": [
      "Homogeneity: 0.0577918283541\nCompleteness: 0.260688063969\nV-Measure core: 0.094609676843\nAdjusted Rand index: 0.027032102573669003\nMutual Information: 0.0484793286491\nSilhouette: -0.0265684526288\n"
     ]
    }
   ],
   "source": [
    "experiment_kmeans = RunExperiments(direct=direct, clustering_algorithm=\"kmeans\", scale=scaling, separator=separator)\n",
    "experiment_hdbscan = RunExperiments(direct=direct, clustering_algorithm=\"hdbscan\", scale=scaling, separator=separator)\n",
    "\n",
    "metrics_with_b_kmeans = experiment_kmeans.get_metrics_with_b\n",
    "metrics_no_b_kmeans = experiment_kmeans.get_metrics_no_b\n",
    "\n",
    "metrics_with_b_hdbscan = experiment_hdbscan.get_metrics_with_b\n",
    "metrics_no_b_hdbscan = experiment_hdbscan.get_metrics_no_b"
   ]
  },
  {
   "cell_type": "code",
   "execution_count": 13,
   "metadata": {},
   "outputs": [
    {
     "name": "stdout",
     "output_type": "stream",
     "text": [
      "Metrics WITH B VALUE\n"
     ]
    },
    {
     "data": {
      "text/html": [
       "<div>\n",
       "<table border=\"1\" class=\"dataframe\">\n",
       "  <thead>\n",
       "    <tr style=\"text-align: right;\">\n",
       "      <th></th>\n",
       "      <th>Adj Mutual info</th>\n",
       "      <th>Adj Rand index</th>\n",
       "      <th>Completeness</th>\n",
       "      <th>Homogeneity</th>\n",
       "      <th>Silhouette</th>\n",
       "      <th>V-Measure</th>\n",
       "    </tr>\n",
       "  </thead>\n",
       "  <tbody>\n",
       "    <tr>\n",
       "      <th>KMeans</th>\n",
       "      <td>0.27</td>\n",
       "      <td>0.12</td>\n",
       "      <td>0.30</td>\n",
       "      <td>0.37</td>\n",
       "      <td>0.02</td>\n",
       "      <td>0.33</td>\n",
       "    </tr>\n",
       "    <tr>\n",
       "      <th>HDBScan</th>\n",
       "      <td>0.06</td>\n",
       "      <td>0.05</td>\n",
       "      <td>0.30</td>\n",
       "      <td>0.07</td>\n",
       "      <td>-0.03</td>\n",
       "      <td>0.12</td>\n",
       "    </tr>\n",
       "  </tbody>\n",
       "</table>\n",
       "</div>"
      ],
      "text/plain": [
       "<div>\n",
       "<table border=\"1\" class=\"dataframe\">\n",
       "  <thead>\n",
       "    <tr style=\"text-align: right;\">\n",
       "      <th></th>\n",
       "      <th>Adj Mutual info</th>\n",
       "      <th>Adj Rand index</th>\n",
       "      <th>Completeness</th>\n",
       "      <th>Homogeneity</th>\n",
       "      <th>Silhouette</th>\n",
       "      <th>V-Measure</th>\n",
       "    </tr>\n",
       "  </thead>\n",
       "  <tbody>\n",
       "    <tr>\n",
       "      <th>KMeans</th>\n",
       "      <td>0.27</td>\n",
       "      <td>0.12</td>\n",
       "      <td>0.30</td>\n",
       "      <td>0.37</td>\n",
       "      <td>0.02</td>\n",
       "      <td>0.33</td>\n",
       "    </tr>\n",
       "    <tr>\n",
       "      <th>HDBScan</th>\n",
       "      <td>0.06</td>\n",
       "      <td>0.05</td>\n",
       "      <td>0.30</td>\n",
       "      <td>0.07</td>\n",
       "      <td>-0.03</td>\n",
       "      <td>0.12</td>\n",
       "    </tr>\n",
       "  </tbody>\n",
       "</table>\n",
       "</div>"
      ]
     },
     "execution_count": 13,
     "metadata": {},
     "output_type": "execute_result"
    }
   ],
   "source": [
    "print(\"Metrics WITH B VALUE\")\n",
    "\n",
    "embedding_with_b = pd.DataFrame({\n",
    "        \"Homogeneity\": [F.formatFloat(metrics_with_b_kmeans.get_homogeneity), \n",
    "                        F.formatFloat(metrics_with_b_hdbscan.get_homogeneity)],\n",
    "        \"Completeness\": [F.formatFloat(metrics_with_b_kmeans.get_completeness), \n",
    "                         F.formatFloat(metrics_with_b_hdbscan.get_completeness)],\n",
    "        \"V-Measure\": [F.formatFloat(metrics_with_b_kmeans.get_v_measure), \n",
    "                      F.formatFloat(metrics_with_b_hdbscan.get_v_measure)],\n",
    "        \"Adj Rand index\": [F.formatFloat(metrics_with_b_kmeans.get_adjuster_rand), \n",
    "                           F.formatFloat(metrics_with_b_hdbscan.get_adjuster_rand)],\n",
    "        \"Adj Mutual info\": [F.formatFloat(metrics_with_b_kmeans.get_mutual_information), \n",
    "                            F.formatFloat(metrics_with_b_hdbscan.get_mutual_information)],\n",
    "        \"Silhouette\": [F.formatFloat(metrics_with_b_kmeans.get_silhouette), \n",
    "                       F.formatFloat(metrics_with_b_hdbscan.get_silhouette)]\n",
    "    },\n",
    "    index=[\"KMeans\",\n",
    "           \"HDBScan\"]\n",
    ")\n",
    "\n",
    "embedding_with_b"
   ]
  },
  {
   "cell_type": "code",
   "execution_count": 14,
   "metadata": {},
   "outputs": [
    {
     "name": "stdout",
     "output_type": "stream",
     "text": [
      "Plotting KMeans with B value...\n"
     ]
    },
    {
     "data": {
      "text/plain": [
       "<module 'matplotlib.pyplot' from '/Users/Andrea/anaconda/envs/python3/lib/python3.5/site-packages/matplotlib/pyplot.py'>"
      ]
     },
     "execution_count": 14,
     "metadata": {},
     "output_type": "execute_result"
    }
   ],
   "source": [
    "print(\"Plotting KMeans with B value...\")\n",
    "experiment_kmeans.plot_normalized_data_with_b(file_name=direct + \"kmeans_plot_with_b\")"
   ]
  },
  {
   "cell_type": "code",
   "execution_count": 15,
   "metadata": {},
   "outputs": [
    {
     "name": "stdout",
     "output_type": "stream",
     "text": [
      "Plotting HDBScan with B value...\n"
     ]
    },
    {
     "data": {
      "text/plain": [
       "<module 'matplotlib.pyplot' from '/Users/Andrea/anaconda/envs/python3/lib/python3.5/site-packages/matplotlib/pyplot.py'>"
      ]
     },
     "execution_count": 15,
     "metadata": {},
     "output_type": "execute_result"
    }
   ],
   "source": [
    "print(\"Plotting HDBScan with B value...\")\n",
    "experiment_hdbscan.plot_normalized_data_with_b(file_name=direct + \"hdbscan_plot_with_b\")"
   ]
  },
  {
   "cell_type": "code",
   "execution_count": 16,
   "metadata": {},
   "outputs": [
    {
     "name": "stdout",
     "output_type": "stream",
     "text": [
      "Metrics WITHOUT B VALUE\n"
     ]
    },
    {
     "data": {
      "text/html": [
       "<div>\n",
       "<table border=\"1\" class=\"dataframe\">\n",
       "  <thead>\n",
       "    <tr style=\"text-align: right;\">\n",
       "      <th></th>\n",
       "      <th>Adj Mutual info</th>\n",
       "      <th>Adj Rand index</th>\n",
       "      <th>Completeness</th>\n",
       "      <th>Homogeneity</th>\n",
       "      <th>Silhouette</th>\n",
       "      <th>V-Measure</th>\n",
       "    </tr>\n",
       "  </thead>\n",
       "  <tbody>\n",
       "    <tr>\n",
       "      <th>KMeans</th>\n",
       "      <td>0.22</td>\n",
       "      <td>0.10</td>\n",
       "      <td>0.25</td>\n",
       "      <td>0.32</td>\n",
       "      <td>0.03</td>\n",
       "      <td>0.28</td>\n",
       "    </tr>\n",
       "    <tr>\n",
       "      <th>HDBScan</th>\n",
       "      <td>0.05</td>\n",
       "      <td>0.03</td>\n",
       "      <td>0.26</td>\n",
       "      <td>0.06</td>\n",
       "      <td>-0.03</td>\n",
       "      <td>0.09</td>\n",
       "    </tr>\n",
       "  </tbody>\n",
       "</table>\n",
       "</div>"
      ],
      "text/plain": [
       "<div>\n",
       "<table border=\"1\" class=\"dataframe\">\n",
       "  <thead>\n",
       "    <tr style=\"text-align: right;\">\n",
       "      <th></th>\n",
       "      <th>Adj Mutual info</th>\n",
       "      <th>Adj Rand index</th>\n",
       "      <th>Completeness</th>\n",
       "      <th>Homogeneity</th>\n",
       "      <th>Silhouette</th>\n",
       "      <th>V-Measure</th>\n",
       "    </tr>\n",
       "  </thead>\n",
       "  <tbody>\n",
       "    <tr>\n",
       "      <th>KMeans</th>\n",
       "      <td>0.22</td>\n",
       "      <td>0.10</td>\n",
       "      <td>0.25</td>\n",
       "      <td>0.32</td>\n",
       "      <td>0.03</td>\n",
       "      <td>0.28</td>\n",
       "    </tr>\n",
       "    <tr>\n",
       "      <th>HDBScan</th>\n",
       "      <td>0.05</td>\n",
       "      <td>0.03</td>\n",
       "      <td>0.26</td>\n",
       "      <td>0.06</td>\n",
       "      <td>-0.03</td>\n",
       "      <td>0.09</td>\n",
       "    </tr>\n",
       "  </tbody>\n",
       "</table>\n",
       "</div>"
      ]
     },
     "execution_count": 16,
     "metadata": {},
     "output_type": "execute_result"
    }
   ],
   "source": [
    "print(\"Metrics WITHOUT B VALUE\")\n",
    "\n",
    "embedding_no_b = pd.DataFrame({\n",
    "        \"Homogeneity\": [F.formatFloat(metrics_no_b_kmeans.get_homogeneity), \n",
    "                        F.formatFloat(metrics_no_b_hdbscan.get_homogeneity)],\n",
    "        \"Completeness\": [F.formatFloat(metrics_no_b_kmeans.get_completeness),\n",
    "                         F.formatFloat(metrics_no_b_hdbscan.get_completeness)],\n",
    "        \"V-Measure\": [F.formatFloat(metrics_no_b_kmeans.get_v_measure),\n",
    "                      F.formatFloat(metrics_no_b_hdbscan.get_v_measure)],\n",
    "        \"Adj Rand index\": [F.formatFloat(metrics_no_b_kmeans.get_adjuster_rand),\n",
    "                           F.formatFloat(metrics_no_b_hdbscan.get_adjuster_rand)],\n",
    "        \"Adj Mutual info\": [F.formatFloat(metrics_no_b_kmeans.get_mutual_information),\n",
    "                            F.formatFloat(metrics_no_b_hdbscan.get_mutual_information)],\n",
    "        \"Silhouette\": [F.formatFloat(metrics_no_b_kmeans.get_silhouette),\n",
    "                       F.formatFloat(metrics_no_b_hdbscan.get_silhouette)]\n",
    "    },\n",
    "    index=[\"KMeans\",\n",
    "           \"HDBScan\"])\n",
    "\n",
    "embedding_no_b"
   ]
  },
  {
   "cell_type": "code",
   "execution_count": 17,
   "metadata": {},
   "outputs": [
    {
     "name": "stdout",
     "output_type": "stream",
     "text": [
      "Plotting KMeans without B value...\n"
     ]
    },
    {
     "data": {
      "text/plain": [
       "<module 'matplotlib.pyplot' from '/Users/Andrea/anaconda/envs/python3/lib/python3.5/site-packages/matplotlib/pyplot.py'>"
      ]
     },
     "execution_count": 17,
     "metadata": {},
     "output_type": "execute_result"
    }
   ],
   "source": [
    "print(\"Plotting KMeans without B value...\")\n",
    "experiment_kmeans.plot_normalized_data_no_b(file_name=direct + \"kmeans_plot_no_b\")"
   ]
  },
  {
   "cell_type": "code",
   "execution_count": 18,
   "metadata": {},
   "outputs": [
    {
     "name": "stdout",
     "output_type": "stream",
     "text": [
      "Plotting HDBScan without B value...\n"
     ]
    },
    {
     "data": {
      "text/plain": [
       "<module 'matplotlib.pyplot' from '/Users/Andrea/anaconda/envs/python3/lib/python3.5/site-packages/matplotlib/pyplot.py'>"
      ]
     },
     "execution_count": 18,
     "metadata": {},
     "output_type": "execute_result"
    }
   ],
   "source": [
    "print(\"Plotting HDBScan without B value...\")\n",
    "experiment_hdbscan.plot_normalized_data_no_b(file_name=direct + \"hdbscan_plot_no_b\")"
   ]
  },
  {
   "cell_type": "code",
   "execution_count": null,
   "metadata": {},
   "outputs": [],
   "source": [
    ""
   ]
  }
 ],
 "metadata": {
  "kernelspec": {
   "display_name": "Python 2",
   "language": "python",
   "name": "python2"
  },
  "language_info": {
   "codemirror_mode": {
    "name": "ipython",
    "version": 2.0
   },
   "file_extension": ".py",
   "mimetype": "text/x-python",
   "name": "python",
   "nbconvert_exporter": "python",
   "pygments_lexer": "ipython2",
   "version": "2.7.6"
  }
 },
 "nbformat": 4,
 "nbformat_minor": 0
}