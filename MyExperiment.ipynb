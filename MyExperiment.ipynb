{
 "cells": [
  {
   "cell_type": "code",
   "execution_count": 1,
   "metadata": {
    "collapsed": true
   },
   "outputs": [],
   "source": [
    "from models.Metrics import Metrics\n",
    "from utils.UrlsEmbedding import UrlsEmbedding\n",
    "from utils.RunExperiments import RunExperiments\n",
    "import pandas as pd"
   ]
  },
  {
   "cell_type": "code",
   "execution_count": 2,
   "metadata": {},
   "outputs": [],
   "source": [
    "direct = \"/Users/Andrea/Desktop/cs.illinois.edu.ListConstraint.words100000.depth10/\"\n",
    "clustering = \"KMEANS\"\n",
    "scaling = \"None\""
   ]
  },
  {
   "cell_type": "code",
   "execution_count": 3,
   "metadata": {},
   "outputs": [
    {
     "ename": "KeyError",
     "evalue": "'cs.illinois.edu/courses/profile/CS413-120161'",
     "traceback": [
      "\u001b[0;31m---------------------------------------------------------------------------\u001b[0m",
      "\u001b[0;31mKeyError\u001b[0m                                  Traceback (most recent call last)",
      "\u001b[0;32m<ipython-input-3-6ee2f7b93493>\u001b[0m in \u001b[0;36m<module>\u001b[0;34m()\u001b[0m\n\u001b[0;32m----> 1\u001b[0;31m \u001b[0mexperiment\u001b[0m \u001b[0;34m=\u001b[0m \u001b[0mRunExperiments\u001b[0m\u001b[0;34m(\u001b[0m\u001b[0mdirect\u001b[0m\u001b[0;34m=\u001b[0m\u001b[0mdirect\u001b[0m\u001b[0;34m,\u001b[0m \u001b[0mclustering_algorithm\u001b[0m\u001b[0;34m=\u001b[0m\u001b[0mclustering\u001b[0m\u001b[0;34m,\u001b[0m \u001b[0mscale\u001b[0m\u001b[0;34m=\u001b[0m\u001b[0mscaling\u001b[0m\u001b[0;34m,\u001b[0m \u001b[0mseparator\u001b[0m\u001b[0;34m=\u001b[0m\u001b[0;34m\"\\t\"\u001b[0m\u001b[0;34m)\u001b[0m\u001b[0;34m\u001b[0m\u001b[0m\n\u001b[0m\u001b[1;32m      2\u001b[0m \u001b[0mmetrics_with_b\u001b[0m \u001b[0;34m=\u001b[0m \u001b[0mexperiment\u001b[0m\u001b[0;34m.\u001b[0m\u001b[0mget_metrics_with_b\u001b[0m\u001b[0;34m\u001b[0m\u001b[0m\n\u001b[1;32m      3\u001b[0m \u001b[0mmetrics_no_b\u001b[0m \u001b[0;34m=\u001b[0m \u001b[0mexperiment\u001b[0m\u001b[0;34m.\u001b[0m\u001b[0mget_metrics_no_b\u001b[0m\u001b[0;34m\u001b[0m\u001b[0m\n",
      "\u001b[0;32m/Volumes/AdditionalDriveMAC/WorkSpace PyCharm/UrlOrganizer/utils/RunExperiments.py\u001b[0m in \u001b[0;36m__init__\u001b[0;34m(self, direct, separator, clustering_algorithm, scale)\u001b[0m\n\u001b[1;32m     12\u001b[0m         \u001b[0mfile_embeddings_no_b\u001b[0m \u001b[0;34m=\u001b[0m \u001b[0mdirect\u001b[0m \u001b[0;34m+\u001b[0m \u001b[0;34m\"embeddings_no_b.txt\"\u001b[0m\u001b[0;34m\u001b[0m\u001b[0m\n\u001b[1;32m     13\u001b[0m \u001b[0;34m\u001b[0m\u001b[0m\n\u001b[0;32m---> 14\u001b[0;31m         \u001b[0mself\u001b[0m\u001b[0;34m.\u001b[0m\u001b[0m__converter\u001b[0m \u001b[0;34m=\u001b[0m \u001b[0mUrlConverter\u001b[0m\u001b[0;34m(\u001b[0m\u001b[0mfile_url_cluster\u001b[0m\u001b[0;34m,\u001b[0m \u001b[0mfile_url_codeUrl\u001b[0m\u001b[0;34m,\u001b[0m \u001b[0mseparator\u001b[0m\u001b[0;34m)\u001b[0m\u001b[0;34m\u001b[0m\u001b[0m\n\u001b[0m\u001b[1;32m     15\u001b[0m         \u001b[0mself\u001b[0m\u001b[0;34m.\u001b[0m\u001b[0m__embeddings_with_b\u001b[0m \u001b[0;34m=\u001b[0m \u001b[0mUrlsEmbedding\u001b[0m\u001b[0;34m(\u001b[0m\u001b[0mfile_embeddings_with_b\u001b[0m\u001b[0;34m,\u001b[0m \u001b[0mscaling\u001b[0m\u001b[0;34m=\u001b[0m\u001b[0mscale\u001b[0m\u001b[0;34m)\u001b[0m\u001b[0;34m\u001b[0m\u001b[0m\n\u001b[1;32m     16\u001b[0m         \u001b[0mself\u001b[0m\u001b[0;34m.\u001b[0m\u001b[0m__embeddings_no_b\u001b[0m \u001b[0;34m=\u001b[0m \u001b[0mUrlsEmbedding\u001b[0m\u001b[0;34m(\u001b[0m\u001b[0mfile_embeddings_no_b\u001b[0m\u001b[0;34m,\u001b[0m \u001b[0mscaling\u001b[0m\u001b[0;34m=\u001b[0m\u001b[0mscale\u001b[0m\u001b[0;34m)\u001b[0m\u001b[0;34m\u001b[0m\u001b[0m\n",
      "\u001b[0;32m/Volumes/AdditionalDriveMAC/WorkSpace PyCharm/UrlOrganizer/utils/UrlConverter.py\u001b[0m in \u001b[0;36m__init__\u001b[0;34m(self, file_url_clusterLabel, file_url_codeUrl, separator)\u001b[0m\n\u001b[1;32m      9\u001b[0m         \u001b[0;32massert\u001b[0m \u001b[0mos\u001b[0m\u001b[0;34m.\u001b[0m\u001b[0mpath\u001b[0m\u001b[0;34m.\u001b[0m\u001b[0misfile\u001b[0m\u001b[0;34m(\u001b[0m\u001b[0mfile_url_clusterLabel\u001b[0m\u001b[0;34m)\u001b[0m\u001b[0;34m,\u001b[0m \u001b[0;34m\"the file %r does not exist\"\u001b[0m \u001b[0;34m%\u001b[0m \u001b[0mfile_url_clusterLabel\u001b[0m\u001b[0;34m\u001b[0m\u001b[0m\n\u001b[1;32m     10\u001b[0m         \u001b[0;32massert\u001b[0m \u001b[0mos\u001b[0m\u001b[0;34m.\u001b[0m\u001b[0mpath\u001b[0m\u001b[0;34m.\u001b[0m\u001b[0misfile\u001b[0m\u001b[0;34m(\u001b[0m\u001b[0mfile_url_codeUrl\u001b[0m\u001b[0;34m)\u001b[0m\u001b[0;34m,\u001b[0m \u001b[0;34m\"the file %r does not exist\"\u001b[0m \u001b[0;34m%\u001b[0m \u001b[0mfile_url_codeUrl\u001b[0m\u001b[0;34m\u001b[0m\u001b[0m\n\u001b[0;32m---> 11\u001b[0;31m         \u001b[0mself\u001b[0m\u001b[0;34m.\u001b[0m\u001b[0m__map_codeUrl_clusteringLabel\u001b[0m \u001b[0;34m=\u001b[0m \u001b[0mself\u001b[0m\u001b[0;34m.\u001b[0m\u001b[0m__generate_map_codeUrl_label\u001b[0m\u001b[0;34m(\u001b[0m\u001b[0mfile_url_clusterLabel\u001b[0m\u001b[0;34m,\u001b[0m \u001b[0mfile_url_codeUrl\u001b[0m\u001b[0;34m,\u001b[0m \u001b[0mseparator\u001b[0m\u001b[0;34m)\u001b[0m\u001b[0;34m\u001b[0m\u001b[0m\n\u001b[0m\u001b[1;32m     12\u001b[0m \u001b[0;34m\u001b[0m\u001b[0m\n\u001b[1;32m     13\u001b[0m     \u001b[0;32mdef\u001b[0m \u001b[0m__generate_map_codeUrl_label\u001b[0m\u001b[0;34m(\u001b[0m\u001b[0mself\u001b[0m\u001b[0;34m,\u001b[0m \u001b[0mfile_url_clusterLabel\u001b[0m\u001b[0;34m,\u001b[0m \u001b[0mfile_url_codeUrl\u001b[0m\u001b[0;34m,\u001b[0m \u001b[0mseparator\u001b[0m\u001b[0;34m)\u001b[0m\u001b[0;34m:\u001b[0m\u001b[0;34m\u001b[0m\u001b[0m\n",
      "\u001b[0;32m/Volumes/AdditionalDriveMAC/WorkSpace PyCharm/UrlOrganizer/utils/UrlConverter.py\u001b[0m in \u001b[0;36m__generate_map_codeUrl_label\u001b[0;34m(self, file_url_clusterLabel, file_url_codeUrl, separator)\u001b[0m\n\u001b[1;32m     24\u001b[0m         \u001b[0mmap_code_label\u001b[0m \u001b[0;34m=\u001b[0m \u001b[0;34m{\u001b[0m\u001b[0;34m}\u001b[0m\u001b[0;34m\u001b[0m\u001b[0m\n\u001b[1;32m     25\u001b[0m         \u001b[0;32mfor\u001b[0m \u001b[0murl\u001b[0m\u001b[0;34m,\u001b[0m \u001b[0mcode\u001b[0m \u001b[0;32min\u001b[0m \u001b[0mmap2\u001b[0m\u001b[0;34m.\u001b[0m\u001b[0mitems\u001b[0m\u001b[0;34m(\u001b[0m\u001b[0;34m)\u001b[0m\u001b[0;34m:\u001b[0m\u001b[0;34m\u001b[0m\u001b[0m\n\u001b[0;32m---> 26\u001b[0;31m             \u001b[0mlabel\u001b[0m \u001b[0;34m=\u001b[0m \u001b[0mmap1\u001b[0m\u001b[0;34m[\u001b[0m\u001b[0murl\u001b[0m\u001b[0;34m]\u001b[0m\u001b[0;34m\u001b[0m\u001b[0m\n\u001b[0m\u001b[1;32m     27\u001b[0m             \u001b[0mmap_code_label\u001b[0m\u001b[0;34m[\u001b[0m\u001b[0mcode\u001b[0m\u001b[0;34m]\u001b[0m \u001b[0;34m=\u001b[0m \u001b[0mint\u001b[0m\u001b[0;34m(\u001b[0m\u001b[0mlabel\u001b[0m\u001b[0;34m)\u001b[0m\u001b[0;34m\u001b[0m\u001b[0m\n\u001b[1;32m     28\u001b[0m \u001b[0;34m\u001b[0m\u001b[0m\n",
      "\u001b[0;31mKeyError\u001b[0m: 'cs.illinois.edu/courses/profile/CS413-120161'"
     ],
     "output_type": "error"
    }
   ],
   "source": [
    "experiment = RunExperiments(direct=direct, clustering_algorithm=clustering, scale=scaling, separator=\"\\t\")\n",
    "metrics_with_b = experiment.get_metrics_with_b\n",
    "metrics_no_b = experiment.get_metrics_no_b"
   ]
  },
  {
   "cell_type": "code",
   "execution_count": 13,
   "metadata": {},
   "outputs": [
    {
     "name": "stdout",
     "output_type": "stream",
     "text": [
      "metrics with b\n"
     ]
    },
    {
     "ename": "NameError",
     "evalue": "name 'metrics_with_b' is not defined",
     "traceback": [
      "\u001b[0;31m---------------------------------------------------------------------------\u001b[0m",
      "\u001b[0;31mNameError\u001b[0m                                 Traceback (most recent call last)",
      "\u001b[0;32m<ipython-input-13-5eeffd250687>\u001b[0m in \u001b[0;36m<module>\u001b[0;34m()\u001b[0m\n\u001b[1;32m      1\u001b[0m \u001b[0mprint\u001b[0m\u001b[0;34m(\u001b[0m\u001b[0;34m\"metrics with b\"\u001b[0m\u001b[0;34m)\u001b[0m\u001b[0;34m\u001b[0m\u001b[0m\n\u001b[1;32m      2\u001b[0m \u001b[0;34m\u001b[0m\u001b[0m\n\u001b[0;32m----> 3\u001b[0;31m \u001b[0mhomogeneity\u001b[0m \u001b[0;34m=\u001b[0m \u001b[0mmetrics_with_b\u001b[0m\u001b[0;34m.\u001b[0m\u001b[0mget_homogeneity\u001b[0m\u001b[0;34m\u001b[0m\u001b[0m\n\u001b[0m\u001b[1;32m      4\u001b[0m \u001b[0mcompleteness\u001b[0m \u001b[0;34m=\u001b[0m \u001b[0mmetrics_with_b\u001b[0m\u001b[0;34m.\u001b[0m\u001b[0mget_completness\u001b[0m\u001b[0;34m\u001b[0m\u001b[0m\n\u001b[1;32m      5\u001b[0m \u001b[0mv_measure\u001b[0m \u001b[0;34m=\u001b[0m \u001b[0mmetrics_with_b\u001b[0m\u001b[0;34m.\u001b[0m\u001b[0mget_v_measure\u001b[0m\u001b[0;34m\u001b[0m\u001b[0m\n",
      "\u001b[0;31mNameError\u001b[0m: name 'metrics_with_b' is not defined"
     ],
     "output_type": "error"
    }
   ],
   "source": [
    "print(\"metrics with b\")\n",
    "\n",
    "homogeneity = metrics_with_b.get_homogeneity\n",
    "completeness = metrics_with_b.get_completness\n",
    "v_measure = metrics_with_b.get_v_measure\n",
    "ari = metrics_with_b.get_adjuster_rand\n",
    "ami = metrics_with_b.get_mutual_information\n",
    "silhouette = metrics_with_b.get_silhouette\n",
    "\n",
    "embeddingdf_nc = pd.DataFrame({\n",
    "        \"A_Homogeneity\": \"{0:.2f}\".format(homogeneity), \n",
    "        \"B_Completeness\": \"{0:.2f}\".format(completeness), \n",
    "        \"C_V-Measure\": \"{0:.2f}\".format(v_measure), \n",
    "        \"D_Adj Rand index\": \"{0:.2f}\".format(ari), \n",
    "        \"E_Adj Mutual info\": \"{0:.2f}\".format(ami), \n",
    "        \"F_Silhouette\": \"{0:.2f}\".format(silhouette)\n",
    "    },\n",
    "    index=[\"Embedding NC\"]\n",
    ")\n",
    "embeddingdf_nc"
   ]
  },
  {
   "cell_type": "code",
   "execution_count": null,
   "metadata": {},
   "outputs": [],
   "source": [
    ""
   ]
  }
 ],
 "metadata": {
  "kernelspec": {
   "display_name": "Python 2",
   "language": "python",
   "name": "python2"
  },
  "language_info": {
   "codemirror_mode": {
    "name": "ipython",
    "version": 2.0
   },
   "file_extension": ".py",
   "mimetype": "text/x-python",
   "name": "python",
   "nbconvert_exporter": "python",
   "pygments_lexer": "ipython2",
   "version": "2.7.6"
  }
 },
 "nbformat": 4,
 "nbformat_minor": 0
}