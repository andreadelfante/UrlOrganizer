{
 "cells": [
  {
   "cell_type": "code",
   "execution_count": 1,
   "metadata": {
    "collapsed": true
   },
   "outputs": [],
   "source": [
    "from models.Chart import Chart\n",
    "from models.MetricKey import MetricKey\n",
    "import plotly.tools as tls\n",
    "\n",
    "#tls.set_credentials_file(username='andreadelfante', api_key='1eob0r0ult')\n",
    "#tls.set_credentials_file(username=\"chrispolo\", api_key=\"89nned6csl\")\n",
    "#tls.set_credentials_file(username=\"andreadelfante1\", api_key=\"l6218x7dun\")\n",
    "#tls.set_credentials_file(username=\"andreadelfante2\", api_key=\"8jdqrhmsuz\")\n",
    "tls.set_credentials_file(username=\"andreadelfante3\", api_key=\"xq9h85w8sm\")"
   ]
  },
  {
   "cell_type": "code",
   "execution_count": 18,
   "metadata": {},
   "outputs": [],
   "source": [
    "direct = \"/Volumes/AdditionalDriveMAC/Google Drive/1) Tesi/Sperimentazioni/\" \\\n",
    "         \"cs.ox.ac.uk/\" \\\n",
    "         \"NoConstraint/\"\n",
    "left_skipgram_with_b = \"Risultati left skipgram with b.csv\"\n",
    "left_skipgram_no_b = \"Risultati left skipgram no b.csv\"\n",
    "normal_skipgram = \"Risultati normal skipgram.csv\"\n",
    "\n",
    "\n",
    "clustering = MetricKey.Clustering.KMeans\n",
    "metric = Chart.Metrics.silhouette\n",
    "algorithm = Chart.Algorithm.normal_skipgram\n",
    "\n",
    "best_db = \"1000000\" #100000 = 100K ; 500000 = 500K ; 1000000 = 1M\n",
    "best_window = \"2\" # 2 3 5 7\n",
    "best_depth = \"20\" # 10 15 20\n",
    "\n",
    "chart = Chart(path=direct, left_skipgram_with_b=left_skipgram_with_b, left_skipgram_no_b=left_skipgram_no_b, normal_skipgram=normal_skipgram)"
   ]
  },
  {
   "cell_type": "code",
   "execution_count": 19,
   "metadata": {},
   "outputs": [
    {
     "data": {
      "text/html": [
       "<iframe id=\"igraph\" scrolling=\"no\" style=\"border:none;\" seamless=\"seamless\" src=\"https://plot.ly/~andreadelfante3/40.embed\" height=\"700px\" width=\"700px\"></iframe>"
      ],
      "text/plain": [
       "<iframe id=\"igraph\" scrolling=\"no\" style=\"border:none;\" seamless=\"seamless\" src=\"https://plot.ly/~andreadelfante3/40.embed\" height=\"700px\" width=\"700px\"></iframe>"
      ]
     },
     "execution_count": 19,
     "metadata": {},
     "output_type": "execute_result"
    }
   ],
   "source": [
    "chart.plot_heatmap_window_db(metric, algorithm, clustering, best_depth)"
   ]
  },
  {
   "cell_type": "code",
   "execution_count": 20,
   "metadata": {},
   "outputs": [
    {
     "data": {
      "text/html": [
       "<iframe id=\"igraph\" scrolling=\"no\" style=\"border:none;\" seamless=\"seamless\" src=\"https://plot.ly/~andreadelfante3/42.embed\" height=\"700px\" width=\"700px\"></iframe>"
      ],
      "text/plain": [
       "<iframe id=\"igraph\" scrolling=\"no\" style=\"border:none;\" seamless=\"seamless\" src=\"https://plot.ly/~andreadelfante3/42.embed\" height=\"700px\" width=\"700px\"></iframe>"
      ]
     },
     "execution_count": 20,
     "metadata": {},
     "output_type": "execute_result"
    }
   ],
   "source": [
    "chart.plot_heatmap_window_depth(metric, algorithm, clustering, best_db)"
   ]
  },
  {
   "cell_type": "code",
   "execution_count": 21,
   "metadata": {},
   "outputs": [
    {
     "data": {
      "text/html": [
       "<iframe id=\"igraph\" scrolling=\"no\" style=\"border:none;\" seamless=\"seamless\" src=\"https://plot.ly/~andreadelfante3/44.embed\" height=\"700px\" width=\"700px\"></iframe>"
      ],
      "text/plain": [
       "<iframe id=\"igraph\" scrolling=\"no\" style=\"border:none;\" seamless=\"seamless\" src=\"https://plot.ly/~andreadelfante3/44.embed\" height=\"700px\" width=\"700px\"></iframe>"
      ]
     },
     "execution_count": 21,
     "metadata": {},
     "output_type": "execute_result"
    }
   ],
   "source": [
    "chart.plot_heatmap_db_depth(metric, algorithm, clustering, best_window)"
   ]
  },
  {
   "cell_type": "code",
   "execution_count": null,
   "metadata": {},
   "outputs": [],
   "source": [
    ""
   ]
  },
  {
   "cell_type": "code",
   "execution_count": null,
   "metadata": {},
   "outputs": [],
   "source": [
    ""
   ]
  }
 ],
 "metadata": {
  "kernelspec": {
   "display_name": "Python 2",
   "language": "python",
   "name": "python2"
  },
  "language_info": {
   "codemirror_mode": {
    "name": "ipython",
    "version": 2.0
   },
   "file_extension": ".py",
   "mimetype": "text/x-python",
   "name": "python",
   "nbconvert_exporter": "python",
   "pygments_lexer": "ipython2",
   "version": "2.7.6"
  }
 },
 "nbformat": 4,
 "nbformat_minor": 0
}