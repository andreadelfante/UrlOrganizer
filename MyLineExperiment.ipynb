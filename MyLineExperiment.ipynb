{
 "cells": [
  {
   "cell_type": "code",
   "execution_count": 2,
   "metadata": {
    "collapsed": true
   },
   "outputs": [],
   "source": [
    "from utils.RunLineExperiments import RunLineExperiments\n",
    "\n",
    "%matplotlib inline"
   ]
  },
  {
   "cell_type": "code",
   "execution_count": 10,
   "metadata": {},
   "outputs": [],
   "source": [
    "site = \"cs.priceton.edu\"\n",
    "type = \"ListConstraint\"\n",
    "\n",
    "db_normal_skipgram = \"100000\"  #100000 = 100K ; 500000 = 500K ; 1000000 = 1M\n",
    "window_normal_skipgram = \"7\" # 2 3 5 7\n",
    "depth_normal_skipgram = \"15\" # 10 15 20\n",
    "iteractions = \"50\" # 50 10 3\n",
    "\n",
    "prefix = site + \".\" + type + \".\"\n",
    "direct = \"/Users/Andrea/Google Drive/1) Tesi/Sperimentazioni/\" + \\\n",
    "         site + \"/\" + \\\n",
    "         type + \\\n",
    "         \"/\"\n",
    "\n",
    "scaling = \"l2\"\n",
    "separator = \"\\t\"\n",
    "\n",
    "intersect = True"
   ]
  },
  {
   "cell_type": "code",
   "execution_count": 6,
   "metadata": {},
   "outputs": [],
   "source": [
    "%time experiment = RunLineExperiments(direct, prefix, db_normal_skipgram, window_normal_skipgram, depth_normal_skipgram, iteractions, separator, scaling, intersect)"
   ]
  },
  {
   "cell_type": "code",
   "execution_count": 7,
   "metadata": {},
   "outputs": [],
   "source": [
    "print(\"METRICS NORMAL SKIPGRAM\")\n",
    "\n",
    "experiment.get_dataframe_normal_skipgram()"
   ]
  },
  {
   "cell_type": "code",
   "execution_count": 8,
   "metadata": {},
   "outputs": [],
   "source": [
    "print(\"METRICS LINE FIRST_ORDER PROXIMITY\")\n",
    "\n",
    "experiment.get_dataframe_line_first()"
   ]
  },
  {
   "cell_type": "code",
   "execution_count": 9,
   "metadata": {},
   "outputs": [],
   "source": [
    "print(\"METRICS LINE SECOND_ORDER PROXIMITY\")\n",
    "\n",
    "experiment.get_dataframe_line_second()"
   ]
  },
  {
   "cell_type": "code",
   "execution_count": null,
   "metadata": {},
   "outputs": [],
   "source": [
    "print(\"Plotting normalized embeddings NORMAL SKIPGRAM...\")\n",
    "\n",
    "experiment.plot_normalized_data_normal_skipgram(direct + \"normalized_data_normal_skipgram_intersect_\")"
   ]
  },
  {
   "cell_type": "code",
   "execution_count": null,
   "metadata": {},
   "outputs": [],
   "source": [
    "print(\"Plotting normalized embeddings LINE FIRST_ORDER PROXIMITY...\")\n",
    "\n",
    "experiment.plot_normalized_data_line_first(\"normalized_data_line_first_intersect_\") "
   ]
  },
  {
   "cell_type": "code",
   "execution_count": null,
   "metadata": {},
   "outputs": [],
   "source": [
    "print(\"Plotting normalized embeddings LINE SECOND_ORDER PROXIMITY\")\n",
    "\n",
    "experiment.plot_normalized_data_line_second(\"normalized_data_line_second_intersect_\")"
   ]
  },
  {
   "cell_type": "code",
   "execution_count": null,
   "outputs": [],
   "source": [
    ""
   ]
  }
 ],
 "metadata": {
  "kernelspec": {
   "display_name": "Python 2",
   "language": "python",
   "name": "python2"
  },
  "language_info": {
   "codemirror_mode": {
    "name": "ipython",
    "version": 2.0
   },
   "file_extension": ".py",
   "mimetype": "text/x-python",
   "name": "python",
   "nbconvert_exporter": "python",
   "pygments_lexer": "ipython2",
   "version": "2.7.6"
  }
 },
 "nbformat": 4,
 "nbformat_minor": 0
}