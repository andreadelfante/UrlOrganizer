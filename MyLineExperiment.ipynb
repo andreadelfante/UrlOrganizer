{
 "cells": [
  {
   "cell_type": "code",
   "execution_count": 1,
   "metadata": {
    "collapsed": true
   },
   "outputs": [],
   "source": [
    "from utils.RunLineExperiments import RunLineExperiments\n",
    "\n",
    "%matplotlib inline"
   ]
  },
  {
   "cell_type": "code",
   "execution_count": 20,
   "metadata": {},
   "outputs": [],
   "source": [
    "site = \"cs.stanford.edu\" # cs.illinois.edu  cs.ox.ac.uk  cs.priceton.edu  cs.stanford.edu\n",
    "type = \"NoConstraint\" # ListConstraint  NoConstraint\n",
    "\n",
    "db_left_skipgram = \"1000000\"  #100000 = 100K ; 500000 = 500K ; 1000000 = 1M\n",
    "window_left_skipgram = \"7\" # 2 3 5 7\n",
    "depth_left_skipgram = \"20\" # 10 15 20\n",
    "iteractions_left = \"3\" # 50 10 3\n",
    "\n",
    "db_normal_skipgram = \"500000\"  #100000 = 100K ; 500000 = 500K ; 1000000 = 1M\n",
    "window_normal_skipgram = \"3\" # 2 3 5 7\n",
    "depth_normal_skipgram = \"20\" # 10 15 20\n",
    "iteractions_normal = \"10\" # 50 10 3\n",
    "\n",
    "clustering = \"hdbscan\" #kmeans hdbscan\n",
    "\n",
    "prefix = site + \".\" + type + \".\"\n",
    "direct = \"/Volumes/Macintosh HD/Users/Andrea/Desktop/\" + \\\n",
    "         site + \"/\" + \\\n",
    "         type + \\\n",
    "         \"/\"\n",
    "\n",
    "scale = \"l2\"\n",
    "separator = \"\\t\"\n",
    "\n",
    "intersect = True"
   ]
  },
  {
   "cell_type": "code",
   "execution_count": 21,
   "metadata": {},
   "outputs": [
    {
     "name": "stdout",
     "output_type": "stream",
     "text": [
      "scaling embeddings with L2 normalization\nscaling embeddings with L2 normalization\nscaling embeddings with L2 normalization\nscaling embeddings with L2 normalization\nOriginal urls: 167\nIntersected urls: 161\nOriginal urls: 161\nIntersected urls: 161\nOriginal urls: 406\nIntersected urls: 156\nOriginal urls: 406\nIntersected urls: 156\nStart running HDBscan\nStart running HDBscan\nHomogeneity: 0.150844397842\nCompleteness: 0.207902190324\nV-Measure core: 0.174835840919\nAdjusted Rand index: 0.07997126341987294\nMutual Information: 0.0779539236187\nSilhouette: -0.159704353055\nHomogeneity: 0.208869395521\nCompleteness: 0.276893679926\nV-Measure core: 0.238118615733\nAdjusted Rand index: 0.04015318973829036\nMutual Information: 0.138060198392\nSilhouette: -0.103711238809\nCPU times: user 114 ms, sys: 6.17 ms, total: 120 ms\nWall time: 116 ms\n"
     ]
    },
    {
     "name": "stderr",
     "output_type": "stream",
     "text": [
      "/Library/Frameworks/Python.framework/Versions/3.5/lib/python3.5/site-packages/sklearn/metrics/cluster/unsupervised.py:193: VisibleDeprecationWarning: boolean index did not match indexed array along dimension 0; dimension is 156 but corresponding boolean dimension is 136\n  a = np.mean(distances_row[mask])\n/Library/Frameworks/Python.framework/Versions/3.5/lib/python3.5/site-packages/sklearn/metrics/cluster/unsupervised.py:219: VisibleDeprecationWarning: boolean index did not match indexed array along dimension 0; dimension is 156 but corresponding boolean dimension is 136\n  for cur_label in set(labels) if not cur_label == label])\n"
     ]
    }
   ],
   "source": [
    "%time experiment = RunLineExperiments(direct, prefix, db_left_skipgram, window_left_skipgram, depth_left_skipgram, iteractions_left, db_normal_skipgram, window_normal_skipgram, depth_normal_skipgram, iteractions_normal, clustering, separator, scale, intersect)"
   ]
  },
  {
   "cell_type": "code",
   "execution_count": 22,
   "metadata": {},
   "outputs": [
    {
     "name": "stdout",
     "output_type": "stream",
     "text": [
      "METRICS LINE FIRST_ORDER PROXIMITY\n"
     ]
    },
    {
     "data": {
      "text/html": [
       "<div>\n",
       "<table border=\"1\" class=\"dataframe\">\n",
       "  <thead>\n",
       "    <tr style=\"text-align: right;\">\n",
       "      <th></th>\n",
       "      <th>Adj Mutual info</th>\n",
       "      <th>Adj Rand index</th>\n",
       "      <th>Completeness</th>\n",
       "      <th>Homogeneity</th>\n",
       "      <th>Silhouette</th>\n",
       "      <th>V-Measure</th>\n",
       "    </tr>\n",
       "  </thead>\n",
       "  <tbody>\n",
       "    <tr>\n",
       "      <th>HDBScan</th>\n",
       "      <td>0.08</td>\n",
       "      <td>0.08</td>\n",
       "      <td>0.21</td>\n",
       "      <td>0.15</td>\n",
       "      <td>-0.16</td>\n",
       "      <td>0.17</td>\n",
       "    </tr>\n",
       "  </tbody>\n",
       "</table>\n",
       "</div>"
      ],
      "text/plain": [
       "<div>\n",
       "<table border=\"1\" class=\"dataframe\">\n",
       "  <thead>\n",
       "    <tr style=\"text-align: right;\">\n",
       "      <th></th>\n",
       "      <th>Adj Mutual info</th>\n",
       "      <th>Adj Rand index</th>\n",
       "      <th>Completeness</th>\n",
       "      <th>Homogeneity</th>\n",
       "      <th>Silhouette</th>\n",
       "      <th>V-Measure</th>\n",
       "    </tr>\n",
       "  </thead>\n",
       "  <tbody>\n",
       "    <tr>\n",
       "      <th>HDBScan</th>\n",
       "      <td>0.08</td>\n",
       "      <td>0.08</td>\n",
       "      <td>0.21</td>\n",
       "      <td>0.15</td>\n",
       "      <td>-0.16</td>\n",
       "      <td>0.17</td>\n",
       "    </tr>\n",
       "  </tbody>\n",
       "</table>\n",
       "</div>"
      ]
     },
     "execution_count": 22,
     "metadata": {},
     "output_type": "execute_result"
    }
   ],
   "source": [
    "print(\"METRICS LINE FIRST_ORDER PROXIMITY\")\n",
    "\n",
    "experiment.get_dataframe_line_first()"
   ]
  },
  {
   "cell_type": "code",
   "execution_count": 23,
   "metadata": {},
   "outputs": [
    {
     "name": "stdout",
     "output_type": "stream",
     "text": [
      "METRICS LINE SECOND_ORDER PROXIMITY\n"
     ]
    },
    {
     "data": {
      "text/html": [
       "<div>\n",
       "<table border=\"1\" class=\"dataframe\">\n",
       "  <thead>\n",
       "    <tr style=\"text-align: right;\">\n",
       "      <th></th>\n",
       "      <th>Adj Mutual info</th>\n",
       "      <th>Adj Rand index</th>\n",
       "      <th>Completeness</th>\n",
       "      <th>Homogeneity</th>\n",
       "      <th>Silhouette</th>\n",
       "      <th>V-Measure</th>\n",
       "    </tr>\n",
       "  </thead>\n",
       "  <tbody>\n",
       "    <tr>\n",
       "      <th>HDBScan</th>\n",
       "      <td>0.14</td>\n",
       "      <td>0.04</td>\n",
       "      <td>0.28</td>\n",
       "      <td>0.21</td>\n",
       "      <td>-0.10</td>\n",
       "      <td>0.24</td>\n",
       "    </tr>\n",
       "  </tbody>\n",
       "</table>\n",
       "</div>"
      ],
      "text/plain": [
       "<div>\n",
       "<table border=\"1\" class=\"dataframe\">\n",
       "  <thead>\n",
       "    <tr style=\"text-align: right;\">\n",
       "      <th></th>\n",
       "      <th>Adj Mutual info</th>\n",
       "      <th>Adj Rand index</th>\n",
       "      <th>Completeness</th>\n",
       "      <th>Homogeneity</th>\n",
       "      <th>Silhouette</th>\n",
       "      <th>V-Measure</th>\n",
       "    </tr>\n",
       "  </thead>\n",
       "  <tbody>\n",
       "    <tr>\n",
       "      <th>HDBScan</th>\n",
       "      <td>0.14</td>\n",
       "      <td>0.04</td>\n",
       "      <td>0.28</td>\n",
       "      <td>0.21</td>\n",
       "      <td>-0.10</td>\n",
       "      <td>0.24</td>\n",
       "    </tr>\n",
       "  </tbody>\n",
       "</table>\n",
       "</div>"
      ]
     },
     "execution_count": 23,
     "metadata": {},
     "output_type": "execute_result"
    }
   ],
   "source": [
    "print(\"METRICS LINE SECOND_ORDER PROXIMITY\")\n",
    "\n",
    "experiment.get_dataframe_line_second()"
   ]
  },
  {
   "cell_type": "code",
   "execution_count": 24,
   "metadata": {},
   "outputs": [
    {
     "name": "stdout",
     "output_type": "stream",
     "text": [
      "Plotting normalized embeddings LINE FIRST_ORDER PROXIMITY...\n"
     ]
    },
    {
     "data": {
      "text/plain": [
       "<module 'matplotlib.pyplot' from '/Library/Frameworks/Python.framework/Versions/3.5/lib/python3.5/site-packages/matplotlib/pyplot.py'>"
      ]
     },
     "execution_count": 24,
     "metadata": {},
     "output_type": "execute_result"
    },
    {
     "data": {
      "image/png": "[encoded data removed]",
      "text/plain": [
       "<matplotlib.figure.Figure at 0x10e546c18>"
      ]
     },
     "metadata": {},
     "output_type": "display_data"
    }
   ],
   "source": [
    "print(\"Plotting normalized embeddings LINE FIRST_ORDER PROXIMITY...\")\n",
    "\n",
    "experiment.plot_normalized_data_line_first(direct + \"normalized_data_line_first_intersect_\" + clustering)"
   ]
  },
  {
   "cell_type": "code",
   "execution_count": 25,
   "metadata": {},
   "outputs": [
    {
     "name": "stdout",
     "output_type": "stream",
     "text": [
      "Plotting normalized embeddings LINE SECOND_ORDER PROXIMITY\n"
     ]
    },
    {
     "data": {
      "text/plain": [
       "<module 'matplotlib.pyplot' from '/Library/Frameworks/Python.framework/Versions/3.5/lib/python3.5/site-packages/matplotlib/pyplot.py'>"
      ]
     },
     "execution_count": 25,
     "metadata": {},
     "output_type": "execute_result"
    },
    {
     "data": {
      "image/png": "[encoded data removed]",
      "text/plain": [
       "<matplotlib.figure.Figure at 0x10e888908>"
      ]
     },
     "metadata": {},
     "output_type": "display_data"
    }
   ],
   "source": [
    "print(\"Plotting normalized embeddings LINE SECOND_ORDER PROXIMITY\")\n",
    "\n",
    "experiment.plot_normalized_data_line_second(direct + \"normalized_data_line_second_intersect_\" + clustering)"
   ]
  },
  {
   "cell_type": "code",
   "execution_count": 43,
   "metadata": {},
   "outputs": [],
   "source": [
    ""
   ]
  },
  {
   "cell_type": "code",
   "execution_count": null,
   "metadata": {},
   "outputs": [],
   "source": [
    ""
   ]
  },
  {
   "cell_type": "code",
   "execution_count": null,
   "metadata": {},
   "outputs": [],
   "source": [
    ""
   ]
  }
 ],
 "metadata": {
  "kernelspec": {
   "display_name": "Python 2",
   "language": "python",
   "name": "python2"
  },
  "language_info": {
   "codemirror_mode": {
    "name": "ipython",
    "version": 2.0
   },
   "file_extension": ".py",
   "mimetype": "text/x-python",
   "name": "python",
   "nbconvert_exporter": "python",
   "pygments_lexer": "ipython2",
   "version": "2.7.6"
  }
 },
 "nbformat": 4,
 "nbformat_minor": 0
}