{
 "cells": [
  {
   "cell_type": "code",
   "execution_count": 154,
   "metadata": {
    "collapsed": true
   },
   "outputs": [],
   "source": [
    "from models.Charts import Chart\n",
    "from models.MetricKey import MetricKey\n",
    "import plotly.tools as tls\n",
    "\n",
    "#tls.set_credentials_file(username='andreadelfante', api_key='1eob0r0ult')\n",
    "tls.set_credentials_file(username=\"chrispolo\", api_key=\"89nned6csl\")\n",
    "#tls.set_credentials_file(username=\"andreadelfante1\", api_key=\"l6218x7dun\")"
   ]
  },
  {
   "cell_type": "code",
   "execution_count": 155,
   "metadata": {},
   "outputs": [],
   "source": [
    "direct = \"/Users/Andrea/Google Drive/1) Tesi/Sperimentazioni/\"\n",
    "left_skipgram = \"Risultati left skipgram.csv\"\n",
    "normal_skipgram = \"Risultati normal skipgram.csv\"\n",
    "\n",
    "clustering = MetricKey.Clustering.KMeans\n",
    "metric = Chart.Metrics.ami\n",
    "algorithm = Chart.Algorithm.normal_skipgram\n",
    "\n",
    "best_depth = \"20\"\n",
    "best_db = \"1000000\"\n",
    "best_window = \"5\""
   ]
  },
  {
   "cell_type": "code",
   "execution_count": 156,
   "metadata": {},
   "outputs": [],
   "source": [
    "chart = Chart(path=direct, left_skipgram=left_skipgram, normal_skipgram=normal_skipgram)"
   ]
  },
  {
   "cell_type": "code",
   "execution_count": 157,
   "metadata": {},
   "outputs": [
    {
     "data": {
      "text/html": [
       "<iframe id=\"igraph\" scrolling=\"no\" style=\"border:none;\" seamless=\"seamless\" src=\"https://plot.ly/~chrispolo/578.embed\" height=\"525px\" width=\"100%\"></iframe>"
      ],
      "text/plain": [
       "<iframe id=\"igraph\" scrolling=\"no\" style=\"border:none;\" seamless=\"seamless\" src=\"https://plot.ly/~chrispolo/578.embed\" height=\"525px\" width=\"100%\"></iframe>"
      ]
     },
     "execution_count": 157,
     "metadata": {},
     "output_type": "execute_result"
    }
   ],
   "source": [
    "chart.plot_heatmap_window_db(metric, algorithm, clustering, best_depth)"
   ]
  },
  {
   "cell_type": "code",
   "execution_count": 158,
   "metadata": {},
   "outputs": [
    {
     "data": {
      "text/html": [
       "<iframe id=\"igraph\" scrolling=\"no\" style=\"border:none;\" seamless=\"seamless\" src=\"https://plot.ly/~chrispolo/580.embed\" height=\"525px\" width=\"100%\"></iframe>"
      ],
      "text/plain": [
       "<iframe id=\"igraph\" scrolling=\"no\" style=\"border:none;\" seamless=\"seamless\" src=\"https://plot.ly/~chrispolo/580.embed\" height=\"525px\" width=\"100%\"></iframe>"
      ]
     },
     "execution_count": 158,
     "metadata": {},
     "output_type": "execute_result"
    }
   ],
   "source": [
    "chart.plot_heatmap_window_depth(metric, algorithm, clustering, best_db)"
   ]
  },
  {
   "cell_type": "code",
   "execution_count": 159,
   "metadata": {},
   "outputs": [
    {
     "data": {
      "text/html": [
       "<iframe id=\"igraph\" scrolling=\"no\" style=\"border:none;\" seamless=\"seamless\" src=\"https://plot.ly/~chrispolo/582.embed\" height=\"525px\" width=\"100%\"></iframe>"
      ],
      "text/plain": [
       "<iframe id=\"igraph\" scrolling=\"no\" style=\"border:none;\" seamless=\"seamless\" src=\"https://plot.ly/~chrispolo/582.embed\" height=\"525px\" width=\"100%\"></iframe>"
      ]
     },
     "execution_count": 159,
     "metadata": {},
     "output_type": "execute_result"
    }
   ],
   "source": [
    "chart.plot_heatmap_db_depth(metric, algorithm, clustering, best_window)"
   ]
  },
  {
   "cell_type": "code",
   "execution_count": 110,
   "metadata": {},
   "outputs": [],
   "source": [
    ""
   ]
  },
  {
   "cell_type": "code",
   "execution_count": null,
   "metadata": {},
   "outputs": [],
   "source": [
    ""
   ]
  }
 ],
 "metadata": {
  "kernelspec": {
   "display_name": "Python 2",
   "language": "python",
   "name": "python2"
  },
  "language_info": {
   "codemirror_mode": {
    "name": "ipython",
    "version": 2.0
   },
   "file_extension": ".py",
   "mimetype": "text/x-python",
   "name": "python",
   "nbconvert_exporter": "python",
   "pygments_lexer": "ipython2",
   "version": "2.7.6"
  }
 },
 "nbformat": 4,
 "nbformat_minor": 0
}