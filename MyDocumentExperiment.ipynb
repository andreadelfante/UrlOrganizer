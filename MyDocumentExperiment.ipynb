{
 "cells": [
  {
   "cell_type": "code",
   "execution_count": 1,
   "metadata": {
    "collapsed": true
   },
   "outputs": [],
   "source": [
    "from utils.RunDocumentExperiment import RunDocumentExperiment\n",
    "\n",
    "from models.UrlsEmbedding import Clustering_algorithm, Scale\n",
    "\n",
    "%matplotlib inline"
   ]
  },
  {
   "cell_type": "code",
   "execution_count": 30,
   "metadata": {},
   "outputs": [],
   "source": [
    "direct = \"/Volumes/Macintosh HD/Users/Andrea/Desktop/\"\n",
    "\n",
    "site = \"cs.stanford.edu\" # cs.illinois.edu  cs.ox.ac.uk  cs.priceton.edu  cs.stanford.edu\n",
    "type_site = \"NoConstraint\" # ListConstraint  NoConstraint\n",
    "\n",
    "use_tfidf = True\n",
    "dimension_deduction = 100\n",
    "\n",
    "clustering = Clustering_algorithm.HDBscan\n",
    "intersect = True\n",
    "\n",
    "scaling = Scale.l2\n",
    "separator = \"\\t\""
   ]
  },
  {
   "cell_type": "code",
   "execution_count": 31,
   "metadata": {},
   "outputs": [
    {
     "name": "stdout",
     "output_type": "stream",
     "text": [
      "use tfidf\nFitting tfidf...\n"
     ]
    },
    {
     "name": "stdout",
     "output_type": "stream",
     "text": [
      "Create tf-idf matrix, shape:  (436, 949)\nPerforming lsa dimensional reduction with dimension=100\n"
     ]
    },
    {
     "name": "stdout",
     "output_type": "stream",
     "text": [
      "Dimensionality reduction with lsa, shape:  (436, 100)\nscaling embeddings with L2 normalization\nIntersecting...\nOriginal urls: 436\nIntersected urls: 167\nlength content: 167\nStart running HDBscan\nHomogeneity: 0.191070261053\nCompleteness: 0.368649713255\nV-Measure core: 0.25169013143\nAdjusted Rand index: 0.06109346300660073\nMutual Information: 0.152772880215\nSilhouette: -0.0676099785358\nCPU times: user 5.26 s, sys: 162 ms, total: 5.42 s\nWall time: 5.45 s\n"
     ]
    },
    {
     "name": "stderr",
     "output_type": "stream",
     "text": [
      "/Library/Frameworks/Python.framework/Versions/3.5/lib/python3.5/site-packages/sklearn/metrics/cluster/unsupervised.py:193: VisibleDeprecationWarning: boolean index did not match indexed array along dimension 0; dimension is 167 but corresponding boolean dimension is 146\n  a = np.mean(distances_row[mask])\n/Library/Frameworks/Python.framework/Versions/3.5/lib/python3.5/site-packages/sklearn/metrics/cluster/unsupervised.py:219: VisibleDeprecationWarning: boolean index did not match indexed array along dimension 0; dimension is 167 but corresponding boolean dimension is 146\n  for cur_label in set(labels) if not cur_label == label])\n"
     ]
    }
   ],
   "source": [
    "%time e = RunDocumentExperiment(direct, site, type_site, clustering, use_tfidf, separator, scaling, intersect, dimension_deduction)"
   ]
  },
  {
   "cell_type": "code",
   "execution_count": 32,
   "metadata": {},
   "outputs": [
    {
     "data": {
      "text/html": [
       "<div>\n",
       "<table border=\"1\" class=\"dataframe\">\n",
       "  <thead>\n",
       "    <tr style=\"text-align: right;\">\n",
       "      <th></th>\n",
       "      <th>Adj Mutual info</th>\n",
       "      <th>Adj Rand index</th>\n",
       "      <th>Completeness</th>\n",
       "      <th>Homogeneity</th>\n",
       "      <th>Silhouette</th>\n",
       "      <th>V-Measure</th>\n",
       "    </tr>\n",
       "  </thead>\n",
       "  <tbody>\n",
       "    <tr>\n",
       "      <th>HDBScan</th>\n",
       "      <td>0.15</td>\n",
       "      <td>0.06</td>\n",
       "      <td>0.37</td>\n",
       "      <td>0.19</td>\n",
       "      <td>-0.07</td>\n",
       "      <td>0.25</td>\n",
       "    </tr>\n",
       "  </tbody>\n",
       "</table>\n",
       "</div>"
      ],
      "text/plain": [
       "<div>\n",
       "<table border=\"1\" class=\"dataframe\">\n",
       "  <thead>\n",
       "    <tr style=\"text-align: right;\">\n",
       "      <th></th>\n",
       "      <th>Adj Mutual info</th>\n",
       "      <th>Adj Rand index</th>\n",
       "      <th>Completeness</th>\n",
       "      <th>Homogeneity</th>\n",
       "      <th>Silhouette</th>\n",
       "      <th>V-Measure</th>\n",
       "    </tr>\n",
       "  </thead>\n",
       "  <tbody>\n",
       "    <tr>\n",
       "      <th>HDBScan</th>\n",
       "      <td>0.15</td>\n",
       "      <td>0.06</td>\n",
       "      <td>0.37</td>\n",
       "      <td>0.19</td>\n",
       "      <td>-0.07</td>\n",
       "      <td>0.25</td>\n",
       "    </tr>\n",
       "  </tbody>\n",
       "</table>\n",
       "</div>"
      ]
     },
     "execution_count": 32,
     "metadata": {},
     "output_type": "execute_result"
    }
   ],
   "source": [
    "e.get_dataframe_content()"
   ]
  },
  {
   "cell_type": "code",
   "execution_count": 33,
   "metadata": {},
   "outputs": [
    {
     "name": "stdout",
     "output_type": "stream",
     "text": [
      "/Volumes/Macintosh HD/Users/Andrea/Desktop/cs.stanford.edu/NoConstraint/:TFIDF\n"
     ]
    },
    {
     "data": {
      "text/plain": [
       "<module 'matplotlib.pyplot' from '/Library/Frameworks/Python.framework/Versions/3.5/lib/python3.5/site-packages/matplotlib/pyplot.py'>"
      ]
     },
     "execution_count": 33,
     "metadata": {},
     "output_type": "execute_result"
    },
    {
     "data": {
      "image/png": "[encoded data removed]",
      "text/plain": [
       "<matplotlib.figure.Figure at 0x1121e96d8>"
      ]
     },
     "metadata": {},
     "output_type": "display_data"
    }
   ],
   "source": [
    "direct = direct + site + \"/\" + type_site + \"/\"\n",
    "\n",
    "if use_tfidf:\n",
    "    string = \"TFIDF\"\n",
    "else:\n",
    "    string = \"doc2vec\"\n",
    "\n",
    "print(direct + \":\" + string)\n",
    "e.plot_normalized_content(direct + \"PURE_\" + string + \".\" + clustering.value)"
   ]
  },
  {
   "cell_type": "code",
   "execution_count": 22,
   "metadata": {},
   "outputs": [],
   "source": [
    ""
   ]
  },
  {
   "cell_type": "code",
   "execution_count": null,
   "metadata": {},
   "outputs": [],
   "source": [
    ""
   ]
  }
 ],
 "metadata": {
  "kernelspec": {
   "display_name": "Python 2",
   "language": "python",
   "name": "python2"
  },
  "language_info": {
   "codemirror_mode": {
    "name": "ipython",
    "version": 2.0
   },
   "file_extension": ".py",
   "mimetype": "text/x-python",
   "name": "python",
   "nbconvert_exporter": "python",
   "pygments_lexer": "ipython2",
   "version": "2.7.6"
  }
 },
 "nbformat": 4,
 "nbformat_minor": 0
}